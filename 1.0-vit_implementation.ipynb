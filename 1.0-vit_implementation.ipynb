{
 "cells": [
  {
   "cell_type": "markdown",
   "metadata": {},
   "source": [
    "1. Develop an image classification model based on transformer architecture without relying on pre-implemented transformer or self-attention modules such as torch.nn.Transformer or torch.nn.MultiheadAttention.\n"
   ]
  },
  {
   "cell_type": "code",
   "execution_count": 1,
   "metadata": {},
   "outputs": [],
   "source": [
    "from modules.config import ViTConfig, TrainingConfig, DataConfig\n",
    "from modules.ViT import VisionTransformer\n",
    "\n",
    "import torch\n",
    "\n",
    "from torchvision import datasets\n",
    "import torchvision.transforms as transforms\n",
    "from torchvision.models import resnet152  # For comparison\n",
    "from torch.utils.data import DataLoader, Subset\n",
    "\n",
    "\n",
    "import numpy as np\n",
    "\n",
    "from dataclasses import asdict\n",
    "from modules.pipeline import train_and_evaluate_model"
   ]
  },
  {
   "cell_type": "code",
   "execution_count": 2,
   "metadata": {},
   "outputs": [],
   "source": [
    "device = torch.device(\"cuda\" if torch.cuda.is_available() else \"cpu\")"
   ]
  },
  {
   "cell_type": "code",
   "execution_count": null,
   "metadata": {},
   "outputs": [],
   "source": []
  },
  {
   "cell_type": "code",
   "execution_count": 3,
   "metadata": {},
   "outputs": [],
   "source": [
    "# Prepare data\n",
    "data_config = DataConfig.base()\n",
    "\n",
    "# DEBUG\n",
    "# data_config.debug = True\n",
    "# data_config.batch_size = 2"
   ]
  },
  {
   "cell_type": "code",
   "execution_count": 4,
   "metadata": {},
   "outputs": [],
   "source": [
    "train_transform = transforms.Compose(\n",
    "    [\n",
    "        transforms.Resize(data_config.img_size),\n",
    "        transforms.RandomHorizontalFlip(),\n",
    "        transforms.ColorJitter(),\n",
    "        transforms.ToTensor(),\n",
    "        transforms.Normalize(mean=[0.5, 0.5, 0.5], std=[0.5, 0.5, 0.5]),\n",
    "    ]\n",
    ")\n",
    "\n",
    "val_transform = transforms.Compose(\n",
    "    [\n",
    "        transforms.Resize(data_config.img_size),\n",
    "        transforms.ToTensor(),\n",
    "        transforms.Normalize(mean=[0.5, 0.5, 0.5], std=[0.5, 0.5, 0.5]),\n",
    "    ]\n",
    ")"
   ]
  },
  {
   "cell_type": "code",
   "execution_count": 5,
   "metadata": {},
   "outputs": [
    {
     "name": "stdout",
     "output_type": "stream",
     "text": [
      "Files already downloaded and verified\n",
      "Files already downloaded and verified\n",
      "Files already downloaded and verified\n"
     ]
    }
   ],
   "source": [
    "trainset = datasets.CIFAR10(root=\"./data\", train=True, download=True, transform=train_transform)\n",
    "valset = datasets.CIFAR10(root=\"./data\", train=True, download=True, transform=val_transform)\n",
    "\n",
    "# Calculate split sizes\n",
    "train_size = int(0.8 * len(trainset))\n",
    "val_size = len(trainset) - train_size\n",
    "\n",
    "# Generate indices for splitting\n",
    "indices = list(range(len(trainset)))\n",
    "np.random.shuffle(indices)\n",
    "train_indices = indices[:train_size]\n",
    "val_indices = indices[train_size:]\n",
    "\n",
    "# Create subset datasets\n",
    "train_data = Subset(trainset, train_indices)\n",
    "val_data = Subset(valset, val_indices)\n",
    "test_data = datasets.CIFAR10(root=\"./data\", train=False, download=True, transform=val_transform)\n",
    "classes = (\"plane\", \"car\", \"bird\", \"cat\", \"deer\", \"dog\", \"frog\", \"horse\", \"ship\", \"truck\")\n",
    "\n",
    "if data_config.debug:\n",
    "    train_data = Subset(train_data, list(range(256)))\n",
    "    val_data = Subset(val_data, list(range(256)))\n",
    "    test_data = Subset(test_data, list(range(256)))\n",
    "\n",
    "train_loader = DataLoader(\n",
    "    train_data,\n",
    "    batch_size=data_config.batch_size,\n",
    "    shuffle=True,\n",
    "    num_workers=data_config.num_workers,\n",
    "    pin_memory=data_config.pin_memory,\n",
    ")\n",
    "val_loader = DataLoader(\n",
    "    val_data,\n",
    "    batch_size=data_config.batch_size,\n",
    "    num_workers=data_config.num_workers,\n",
    "    pin_memory=data_config.pin_memory,\n",
    ")\n",
    "test_loader = DataLoader(\n",
    "    test_data,\n",
    "    batch_size=data_config.batch_size,\n",
    "    num_workers=data_config.num_workers,\n",
    "    pin_memory=data_config.pin_memory,\n",
    ")"
   ]
  },
  {
   "cell_type": "code",
   "execution_count": 14,
   "metadata": {},
   "outputs": [],
   "source": [
    "def compare_models(\n",
    "    vit_model,\n",
    "    cnn_model,\n",
    "    num_classes,\n",
    "    train_loader,\n",
    "    val_loader,\n",
    "    test_loader,\n",
    "    vit_train_config: dict[str, any],\n",
    "    cnn_train_config: dict[str, any],\n",
    "    **kwargs\n",
    "):\n",
    "\n",
    "    print(\"Evaluating ViT Model...\")\n",
    "    vit_metrics = train_and_evaluate_model(\n",
    "        vit_model, num_classes, train_loader, val_loader, test_loader, **vit_train_config\n",
    "    )\n",
    "\n",
    "    print(\"Evaluating CNN Model...\")\n",
    "    cnn_metrics = train_and_evaluate_model(\n",
    "        cnn_model, num_classes, train_loader, val_loader, test_loader, **cnn_train_config\n",
    "    )\n",
    "    metrics = [\n",
    "        \"Test Accuracy\",\n",
    "        \"Training Time (s)\",\n",
    "        \"Model Size\",\n",
    "        \"Avg Inference Time (s)\",\n",
    "        \"F1 Score\",\n",
    "        \"AUROC\",\n",
    "    ]\n",
    "\n",
    "    metric_keys = [\n",
    "        \"test_accuracy\",\n",
    "        \"training_time\",\n",
    "        \"model_size\",\n",
    "        \"avg_inference_time\",\n",
    "        \"test_f1\",\n",
    "        \"test_auroc\",\n",
    "    ]\n",
    "\n",
    "    # Initialize comparison dictionary with metrics\n",
    "    comparison = {\"Metric\": metrics}\n",
    "\n",
    "    # Add ViT and CNN metrics with proper length checking\n",
    "    for model_name, metrics_dict in [(\"ViT\", vit_metrics), (\"CNN\", cnn_metrics)]:\n",
    "        comparison[model_name] = [metrics_dict.get(key, \"N/A\") for key in metric_keys]\n",
    "\n",
    "    # Create DataFrame and save to CSV\n",
    "    import pandas as pd\n",
    "\n",
    "    print(comparison)\n",
    "    df = pd.DataFrame(comparison)\n",
    "    df.to_csv(\"model_comparison.csv\", index=False)\n",
    "\n",
    "    # Print comparison table\n",
    "    from tabulate import tabulate\n",
    "\n",
    "    print(\"\\nModel Comparison:\")\n",
    "    print(tabulate(df, headers=\"keys\", tablefmt=\"grid\"))\n",
    "\n",
    "    # Save model predictions\n",
    "    predictions_df = pd.DataFrame(\n",
    "        {\n",
    "            \"ViT Predictions\": vit_metrics.get(\"test_predictions\", []),\n",
    "            \"CNN Predictions\": cnn_metrics.get(\"test_predictions\", []),\n",
    "            \"Targets\": vit_metrics.get(\"test_targets\", []),\n",
    "        }\n",
    "    )\n",
    "    predictions_df.to_csv(\"model_predictions.csv\", index=False)"
   ]
  },
  {
   "cell_type": "code",
   "execution_count": 15,
   "metadata": {},
   "outputs": [
    {
     "name": "stderr",
     "output_type": "stream",
     "text": [
      "GPU available: True (cuda), used: True\n",
      "TPU available: False, using: 0 TPU cores\n",
      "HPU available: False, using: 0 HPUs\n",
      "LOCAL_RANK: 0 - CUDA_VISIBLE_DEVICES: [0]\n",
      "\n",
      "  | Name       | Type               | Params | Mode \n",
      "----------------------------------------------------------\n",
      "0 | model      | VisionTransformer  | 85.8 M | train\n",
      "1 | train_acc  | MulticlassAccuracy | 0      | train\n",
      "2 | val_acc    | MulticlassAccuracy | 0      | train\n",
      "3 | test_acc   | MulticlassAccuracy | 0      | train\n",
      "4 | test_f1    | MulticlassF1Score  | 0      | train\n",
      "5 | test_auroc | MulticlassAUROC    | 0      | train\n",
      "----------------------------------------------------------\n",
      "85.8 M    Trainable params\n",
      "0         Non-trainable params\n",
      "85.8 M    Total params\n",
      "343.225   Total estimated model params size (MB)\n",
      "156       Modules in train mode\n",
      "0         Modules in eval mode\n"
     ]
    },
    {
     "name": "stdout",
     "output_type": "stream",
     "text": [
      "Evaluating ViT Model...\n",
      "Epoch 0: 100%|██████████| 128/128 [00:06<00:00, 19.27it/s, v_num=19, train_loss=5.300, train_acc=0.000, val_loss=3.380, val_acc=0.160]"
     ]
    },
    {
     "name": "stderr",
     "output_type": "stream",
     "text": [
      "`Trainer.fit` stopped: `max_epochs=1` reached.\n"
     ]
    },
    {
     "name": "stdout",
     "output_type": "stream",
     "text": [
      "Epoch 0: 100%|██████████| 128/128 [00:09<00:00, 13.93it/s, v_num=19, train_loss=5.300, train_acc=0.000, val_loss=3.380, val_acc=0.160]\n"
     ]
    },
    {
     "name": "stderr",
     "output_type": "stream",
     "text": [
      "LOCAL_RANK: 0 - CUDA_VISIBLE_DEVICES: [0]\n"
     ]
    },
    {
     "name": "stdout",
     "output_type": "stream",
     "text": [
      "Testing DataLoader 0: 100%|██████████| 128/128 [00:01<00:00, 100.58it/s]\n",
      "────────────────────────────────────────────────────────────────────────────────────────────────────────────────────────\n",
      "       Test metric             DataLoader 0\n",
      "────────────────────────────────────────────────────────────────────────────────────────────────────────────────────────\n",
      "   avg_inference_time      0.006689317524433136\n",
      "       model_size               85806344.0\n",
      "        test_acc                0.08984375\n",
      "       test_auroc            0.628031849861145\n",
      "         test_f1            0.03496216982603073\n",
      "────────────────────────────────────────────────────────────────────────────────────────────────────────────────────────\n"
     ]
    },
    {
     "name": "stderr",
     "output_type": "stream",
     "text": [
      "GPU available: True (cuda), used: True\n",
      "TPU available: False, using: 0 TPU cores\n",
      "HPU available: False, using: 0 HPUs\n",
      "LOCAL_RANK: 0 - CUDA_VISIBLE_DEVICES: [0]\n"
     ]
    },
    {
     "name": "stdout",
     "output_type": "stream",
     "text": [
      "Evaluating CNN Model...\n"
     ]
    },
    {
     "name": "stderr",
     "output_type": "stream",
     "text": [
      "\n",
      "  | Name       | Type               | Params | Mode \n",
      "----------------------------------------------------------\n",
      "0 | model      | ResNet             | 58.2 M | train\n",
      "1 | train_acc  | MulticlassAccuracy | 0      | train\n",
      "2 | val_acc    | MulticlassAccuracy | 0      | train\n",
      "3 | test_acc   | MulticlassAccuracy | 0      | train\n",
      "4 | test_f1    | MulticlassF1Score  | 0      | train\n",
      "5 | test_auroc | MulticlassAUROC    | 0      | train\n",
      "----------------------------------------------------------\n",
      "58.2 M    Trainable params\n",
      "0         Non-trainable params\n",
      "58.2 M    Total params\n",
      "232.657   Total estimated model params size (MB)\n",
      "428       Modules in train mode\n",
      "0         Modules in eval mode\n"
     ]
    },
    {
     "name": "stdout",
     "output_type": "stream",
     "text": [
      "Epoch 0: 100%|██████████| 128/128 [00:13<00:00,  9.54it/s, v_num=10, train_loss=2.610, train_acc=0.000, val_loss=11.60, val_acc=0.117]"
     ]
    },
    {
     "name": "stderr",
     "output_type": "stream",
     "text": [
      "`Trainer.fit` stopped: `max_epochs=1` reached.\n"
     ]
    },
    {
     "name": "stdout",
     "output_type": "stream",
     "text": [
      "Epoch 0: 100%|██████████| 128/128 [00:15<00:00,  8.39it/s, v_num=10, train_loss=2.610, train_acc=0.000, val_loss=11.60, val_acc=0.117]\n"
     ]
    },
    {
     "name": "stderr",
     "output_type": "stream",
     "text": [
      "LOCAL_RANK: 0 - CUDA_VISIBLE_DEVICES: [0]\n"
     ]
    },
    {
     "name": "stdout",
     "output_type": "stream",
     "text": [
      "Testing DataLoader 0: 100%|██████████| 128/128 [00:02<00:00, 44.91it/s]\n",
      "────────────────────────────────────────────────────────────────────────────────────────────────────────────────────────\n",
      "       Test metric             DataLoader 0\n",
      "────────────────────────────────────────────────────────────────────────────────────────────────────────────────────────\n",
      "   avg_inference_time      0.018930813297629356\n",
      "       model_size               58164296.0\n",
      "        test_acc                0.12109375\n",
      "       test_auroc           0.5550526976585388\n",
      "         test_f1            0.0470992848277092\n",
      "────────────────────────────────────────────────────────────────────────────────────────────────────────────────────────\n",
      "{'Metric': ['Test Accuracy', 'Training Time (s)', 'Model Size', 'Avg Inference Time (s)', 'F1 Score', 'AUROC'], 'ViT': [0.08984375, 9.192267768085003, 85806346, 0.006689317524433136, 0.03496216982603073, 0.628031849861145], 'CNN': [0.12109375, 15.261773918289691, 58164298, 0.018930813297629356, 0.0470992848277092, 0.5550526976585388]}\n",
      "\n",
      "Model Comparison:\n",
      "+----+------------------------+-------------+--------------+\n",
      "|    | Metric                 |         ViT |          CNN |\n",
      "+====+========================+=============+==============+\n",
      "|  0 | Test Accuracy          | 0.0898438   |  0.121094    |\n",
      "+----+------------------------+-------------+--------------+\n",
      "|  1 | Training Time (s)      | 9.19227     | 15.2618      |\n",
      "+----+------------------------+-------------+--------------+\n",
      "|  2 | Model Size             | 8.58063e+07 |  5.81643e+07 |\n",
      "+----+------------------------+-------------+--------------+\n",
      "|  3 | Avg Inference Time (s) | 0.00668932  |  0.0189308   |\n",
      "+----+------------------------+-------------+--------------+\n",
      "|  4 | F1 Score               | 0.0349622   |  0.0470993   |\n",
      "+----+------------------------+-------------+--------------+\n",
      "|  5 | AUROC                  | 0.628032    |  0.555053    |\n",
      "+----+------------------------+-------------+--------------+\n"
     ]
    }
   ],
   "source": [
    "vit_config = ViTConfig.base()\n",
    "vit_model = VisionTransformer(**asdict(vit_config))\n",
    "cnn_model = resnet152()\n",
    "\n",
    "vit_train_config = TrainingConfig.vit_base()\n",
    "cnn_train_config = TrainingConfig.resnet152()\n",
    "\n",
    "# DEBUG\n",
    "# vit_train_config.epochs = 1\n",
    "# cnn_train_config.epochs = 1\n",
    "\n",
    "compare_models(\n",
    "    vit_model,\n",
    "    cnn_model,\n",
    "    data_config.num_classes,\n",
    "    train_loader,\n",
    "    val_loader,\n",
    "    test_loader,\n",
    "    asdict(vit_train_config),\n",
    "    asdict(cnn_train_config),\n",
    ")"
   ]
  },
  {
   "cell_type": "code",
   "execution_count": null,
   "metadata": {},
   "outputs": [],
   "source": []
  }
 ],
 "metadata": {
  "kernelspec": {
   "display_name": "Python 3",
   "language": "python",
   "name": "python3"
  },
  "language_info": {
   "codemirror_mode": {
    "name": "ipython",
    "version": 3
   },
   "file_extension": ".py",
   "mimetype": "text/x-python",
   "name": "python",
   "nbconvert_exporter": "python",
   "pygments_lexer": "ipython3",
   "version": "3.11.10"
  }
 },
 "nbformat": 4,
 "nbformat_minor": 2
}
