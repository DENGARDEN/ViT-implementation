{
 "cells": [
  {
   "cell_type": "code",
   "execution_count": null,
   "metadata": {},
   "outputs": [],
   "source": [
    "# Load best checkpoint\n",
    "best_model = LitModel.load_from_checkpoint(\n",
    "    \"checkpoints/best-model.ckpt\", model=model, num_classes=10\n",
    ")\n",
    "\n",
    "# Use for inference\n",
    "best_model.eval()\n",
    "with torch.no_grad():\n",
    "    predictions = best_model(input_data)"
   ]
  }
 ],
 "metadata": {
  "language_info": {
   "name": "python"
  }
 },
 "nbformat": 4,
 "nbformat_minor": 2
}
